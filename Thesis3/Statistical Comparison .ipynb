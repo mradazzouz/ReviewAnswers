{
 "cells": [
  {
   "cell_type": "code",
   "execution_count": 49,
   "id": "c1fee852",
   "metadata": {},
   "outputs": [
    {
     "name": "stdout",
     "output_type": "stream",
     "text": [
      "Training Scores:\n",
      "SimpleModel Mean: 3.163782986998558, Standard Deviation: 2.4207157845448948\n",
      "DeepModel Mean: 0.019701701961457728, Standard Deviation: 0.0073884155338151195\n",
      "ComplexModel Mean: 0.043084707111120224, Standard Deviation: 0.017884776089363494\n",
      "P-value (SimpleModel vs DeepModel): 0.05997535015499877\n",
      "\n",
      "Validation Scores:\n",
      "SimpleModel Mean: 3.193982218205929, Standard Deviation: 2.4416822801939757\n",
      "DeepModel Mean: 0.021807920187711716, Standard Deviation: 0.0068902647235098945\n",
      "ComplexModel Mean: 0.046911357715725896, Standard Deviation: 0.01703759410458387\n",
      "P-value (SimpleModel vs DeepModel): 0.05996576604351325\n",
      "\n",
      "Model Ranking based on MSE (Training Scores):\n",
      "1st:  DeepModel\n",
      "2nd:  ComplexModel\n",
      "3rd:  SimpleModel\n",
      "\n",
      "Model Ranking based on MSE (Validation Scores):\n",
      "1st:  DeepModel\n",
      "2nd:  ComplexModel\n",
      "3rd:  SimpleModel\n"
     ]
    }
   ],
   "source": [
    "import numpy as np\n",
    "from scipy.stats import ttest_rel\n",
    "\n",
    "# Results for SimpleModel\n",
    "simple_model_train_scores = np.array([5.1621413230896, 5.146282196044922, 0.1042778342962265, 5.110446453094482, 0.2957671284675598])\n",
    "simple_model_val_scores = np.array([5.096189498901367, 5.159624099731445, 0.11110352724790573, 5.3029656410217285, 0.30002832412719727])\n",
    "\n",
    "# Results for DeepModel\n",
    "deep_model_train_scores = np.array([0.01603933796286583, 0.016732333227992058, 0.014996345154941082, 0.034434136003255844, 0.016306357458233833])\n",
    "deep_model_val_scores = np.array([0.018719037994742393, 0.017580769956111908, 0.017569897696375847, 0.03549885377287865, 0.019671041518449783])\n",
    "\n",
    "# Results for ComplexModel\n",
    "complex_model_train_scores = np.array([0.04148290678858757, 0.03822333365678787, 0.07675964385271072, 0.023610010743141174, 0.03534764051437378])\n",
    "complex_model_val_scores = np.array([0.045523934066295624, 0.042355310171842575, 0.07836330682039261, 0.02660234458744526, 0.04171189293265343])\n",
    "\n",
    "# Calculate mean and standard deviation\n",
    "mean_train = [np.mean(scores) for scores in [simple_model_train_scores, deep_model_train_scores, complex_model_train_scores]]\n",
    "std_train = [np.std(scores) for scores in [simple_model_train_scores, deep_model_train_scores, complex_model_train_scores]]\n",
    "\n",
    "mean_val = [np.mean(scores) for scores in [simple_model_val_scores, deep_model_val_scores, complex_model_val_scores]]\n",
    "std_val = [np.std(scores) for scores in [simple_model_val_scores, deep_model_val_scores, complex_model_val_scores]]\n",
    "\n",
    "# Perform paired t-tests for training and validation scores\n",
    "t_stat_train, p_val_train = ttest_rel(simple_model_train_scores, deep_model_train_scores)\n",
    "t_stat_val, p_val_val = ttest_rel(simple_model_val_scores, deep_model_val_scores)\n",
    "\n",
    "# Display the results\n",
    "print(\"Training Scores:\")\n",
    "print(f\"SimpleModel Mean: {mean_train[0]}, Standard Deviation: {std_train[0]}\")\n",
    "print(f\"DeepModel Mean: {mean_train[1]}, Standard Deviation: {std_train[1]}\")\n",
    "print(f\"ComplexModel Mean: {mean_train[2]}, Standard Deviation: {std_train[2]}\")\n",
    "print(f\"P-value (SimpleModel vs DeepModel): {p_val_train}\")\n",
    "print()\n",
    "\n",
    "print(\"Validation Scores:\")\n",
    "print(f\"SimpleModel Mean: {mean_val[0]}, Standard Deviation: {std_val[0]}\")\n",
    "print(f\"DeepModel Mean: {mean_val[1]}, Standard Deviation: {std_val[1]}\")\n",
    "print(f\"ComplexModel Mean: {mean_val[2]}, Standard Deviation: {std_val[2]}\")\n",
    "print(f\"P-value (SimpleModel vs DeepModel): {p_val_val}\")\n",
    "\n",
    "# Rank the models based on MSE (lower is better)\n",
    "model_ranking_train = np.argsort(mean_train)\n",
    "model_ranking_val = np.argsort(mean_val)\n",
    "\n",
    "print(\"\\nModel Ranking based on MSE (Training Scores):\")\n",
    "print(\"1st: \", [\"SimpleModel\", \"DeepModel\", \"ComplexModel\"][model_ranking_train[0]])\n",
    "print(\"2nd: \", [\"SimpleModel\", \"DeepModel\", \"ComplexModel\"][model_ranking_train[1]])\n",
    "print(\"3rd: \", [\"SimpleModel\", \"DeepModel\", \"ComplexModel\"][model_ranking_train[2]])\n",
    "\n",
    "print(\"\\nModel Ranking based on MSE (Validation Scores):\")\n",
    "print(\"1st: \", [\"SimpleModel\", \"DeepModel\", \"ComplexModel\"][model_ranking_val[0]])\n",
    "print(\"2nd: \", [\"SimpleModel\", \"DeepModel\", \"ComplexModel\"][model_ranking_val[1]])\n",
    "print(\"3rd: \", [\"SimpleModel\", \"DeepModel\", \"ComplexModel\"][model_ranking_val[2]])\n"
   ]
  }
 ],
 "metadata": {
  "kernelspec": {
   "display_name": "Python 3 (ipykernel)",
   "language": "python",
   "name": "python3"
  },
  "language_info": {
   "codemirror_mode": {
    "name": "ipython",
    "version": 3
   },
   "file_extension": ".py",
   "mimetype": "text/x-python",
   "name": "python",
   "nbconvert_exporter": "python",
   "pygments_lexer": "ipython3",
   "version": "3.9.7"
  }
 },
 "nbformat": 4,
 "nbformat_minor": 5
}
