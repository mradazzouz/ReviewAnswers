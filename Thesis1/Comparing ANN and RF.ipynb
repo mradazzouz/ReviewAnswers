{
 "cells": [
  {
   "cell_type": "code",
   "execution_count": 1,
   "id": "f067e89d",
   "metadata": {},
   "outputs": [
    {
     "name": "stdout",
     "output_type": "stream",
     "text": [
      "T-statistic: -2.918818003913806\n",
      "P-value: 0.04329458295319883\n",
      "The difference in performance is statistically significant.\n"
     ]
    }
   ],
   "source": [
    "from scipy.stats import ttest_rel\n",
    "\n",
    "# Assuming you have the cross-validated scores for Model 1 and Model 2\n",
    "scores_model1 = [61.85333679, 56.34559695, 65.21948233, 59.90540894, 58.99882222]\n",
    "scores_model2 = [66.11573432, 66.91553123, 67.38443103, 68.82064484, 60.15870532]\n",
    "\n",
    "# Perform a paired t-test\n",
    "t_stat, p_value = ttest_rel(scores_model1, scores_model2)\n",
    "\n",
    "# Print the results\n",
    "print(f'T-statistic: {t_stat}')\n",
    "print(f'P-value: {p_value}')\n",
    "\n",
    "# Check if the difference is statistically significant\n",
    "alpha = 0.05\n",
    "if p_value < alpha:\n",
    "    print('The difference in performance is statistically significant.')\n",
    "else:\n",
    "    print('There is no statistically significant difference in performance.')\n"
   ]
  }
 ],
 "metadata": {
  "kernelspec": {
   "display_name": "Python 3 (ipykernel)",
   "language": "python",
   "name": "python3"
  },
  "language_info": {
   "codemirror_mode": {
    "name": "ipython",
    "version": 3
   },
   "file_extension": ".py",
   "mimetype": "text/x-python",
   "name": "python",
   "nbconvert_exporter": "python",
   "pygments_lexer": "ipython3",
   "version": "3.9.7"
  }
 },
 "nbformat": 4,
 "nbformat_minor": 5
}
