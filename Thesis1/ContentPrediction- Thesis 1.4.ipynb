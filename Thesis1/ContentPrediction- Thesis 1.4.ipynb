{
 "cells": [
  {
   "cell_type": "code",
   "execution_count": 1,
   "metadata": {},
   "outputs": [],
   "source": [
    "# Import Libraries and DataSet\n",
    "import warnings\n",
    "import pandas as pd\n",
    "import numpy as np \n",
    "import pylab\n",
    "import math\n",
    "from math import sqrt\n",
    "from sklearn.metrics import mean_squared_error\n",
    "from sklearn.exceptions import DataConversionWarning\n",
    "warnings.filterwarnings(action='ignore', category=RuntimeWarning)\n",
    "warnings.filterwarnings(action='ignore', category=FutureWarning)\n",
    "from numpy import loadtxt\n",
    "from sklearn.neural_network import MLPRegressor\n",
    "from sklearn.model_selection import train_test_split\n",
    "from sklearn.preprocessing import StandardScaler\n",
    "from sklearn.decomposition import PCA\n",
    "import matplotlib.pyplot as plt"
   ]
  },
  {
   "cell_type": "code",
   "execution_count": 2,
   "metadata": {},
   "outputs": [],
   "source": [
    "#Training data\n",
    "RamanTR = loadtxt(r'.\\TrainingData\\RAMANTR.csv', delimiter=',', dtype='float64')\n",
    "RamanRE = loadtxt(r'.\\TrainingData\\RAMANRE.csv', delimiter=',', dtype='float64')\n",
    "NIRTR = loadtxt(r'.\\TrainingData\\NIRTR.csv', delimiter=',', dtype='float64')\n",
    "NIRRE = loadtxt(r'.\\TrainingData\\NIRRE.csv', delimiter=',', dtype='float64')\n",
    "\n",
    "#COMPMax = np.array(COMPMax[np.newaxis].T)\n",
    "#Target\n",
    "Content = loadtxt(r'.\\TrainingData\\CONTENT.csv', delimiter=',', dtype='float64')\n",
    "DR=Content[:,0:1]\n",
    "HPMC=Content[:,1:2]\n",
    "\n"
   ]
  },
  {
   "cell_type": "code",
   "execution_count": 3,
   "metadata": {},
   "outputs": [],
   "source": [
    "#Validation data\n",
    "RamanTRVal = loadtxt(r'.\\Validation\\RAMANTR-validation.csv', delimiter=',', dtype='float64')\n",
    "RamanREVal = loadtxt(r'.\\Validation\\RAMANRE-validation.csv', delimiter=',', dtype='float64')\n",
    "NIRTRVal = loadtxt(r'.\\Validation\\NIRTR-validation.csv', delimiter=',', dtype='float64')\n",
    "NIRREVal = loadtxt(r'.\\Validation\\NIRRE-validation.csv', delimiter=',', dtype='float64')\n",
    "\n",
    "#Target\n",
    "ContentVal = loadtxt(r'.\\Validation\\CONTENT-validation.csv', delimiter=',', dtype='float64')\n",
    "DRVAL=ContentVal[:,0:1]\n",
    "HPMCVAL=ContentVal[:,1:2]\n",
    "\n",
    "\n",
    "\n",
    "\n"
   ]
  },
  {
   "cell_type": "code",
   "execution_count": 4,
   "metadata": {
    "scrolled": false
   },
   "outputs": [
    {
     "name": "stdout",
     "output_type": "stream",
     "text": [
      "(111, 80)\n",
      "(37, 80)\n",
      "(111, 1)\n",
      "[0.63336987 0.18247636 0.10163475 0.03449424 0.01383633 0.00364366\n",
      " 0.0025554  0.0016929  0.00111108 0.00103551]\n"
     ]
    },
    {
     "data": {
      "image/png": "[encoded data removed]",
      "text/plain": [
       "<Figure size 504x360 with 1 Axes>"
      ]
     },
     "metadata": {
      "needs_background": "light"
     },
     "output_type": "display_data"
    }
   ],
   "source": [
    "#Data Preprocessing (Scaling)\n",
    "XramanRescaler = StandardScaler()\n",
    "\n",
    "ScaledRamanRE=XramanRescaler.fit_transform(RamanRE)\n",
    "ScaledRamanREVal=XramanRescaler.transform(RamanREVal)\n",
    "\n",
    "XnirRescaler = StandardScaler()\n",
    "\n",
    "ScaledNirRE=XnirRescaler.fit_transform(NIRRE)\n",
    "ScaledNirREVal=XnirRescaler.transform(NIRREVal)\n",
    "\n",
    "XramanTRscaler = StandardScaler()\n",
    "ScaledRamanTR=XramanTRscaler.fit_transform(RamanTR)\n",
    "ScaledRamanTRVal=XramanTRscaler.transform(RamanTRVal)\n",
    "\n",
    "XnirTRscaler = StandardScaler()\n",
    "ScaledNirTR=XnirTRscaler.fit_transform(NIRTR)\n",
    "ScaledNirTRVal=XnirTRscaler.transform(NIRTRVal)\n",
    "\n",
    "\n",
    "\n",
    "\n",
    "\n",
    "#X_train\n",
    "training=np.hstack((ScaledNirTR,ScaledRamanRE,ScaledNirRE,ScaledRamanTR))\n",
    "\n",
    "pca= PCA(0.999)\n",
    "pca.fit(training)\n",
    "X_train=pca.transform(training)\n",
    "\n",
    "print(X_train.shape)\n",
    "\n",
    "#X_test\n",
    "validation=np.hstack((ScaledNirTRVal,ScaledRamanREVal,ScaledNirREVal,ScaledRamanTRVal))\n",
    "\n",
    "X_test=pca.transform(validation)\n",
    "\n",
    "print(X_test.shape)\n",
    "\n",
    "#y_train\n",
    "\n",
    "y_train=DR\n",
    "print(y_train.shape)\n",
    "\n",
    "\n",
    "#y_test\n",
    "y_test=DRVAL\n",
    "\n",
    "expl_var_1 = pca.explained_variance_ratio_\n",
    "# Plot data\n",
    "First10=expl_var_1[0:10]\n",
    "print(First10)\n",
    "# Plot data\n",
    "with plt.style.context(()):\n",
    "    fig, (ax1) = plt.subplots(nrows=1, ncols=1, figsize=(7,5))\n",
    "    fig.set_tight_layout(True)\n",
    "    ax1.plot(First10*100,'-o',label=\"Explained Variance %\")\n",
    "    ax1.plot(np.cumsum(First10)*100,'-o', label = 'Cumulative variance %')\n",
    "\n",
    "plt.legend()\n",
    "plt.show()"
   ]
  },
  {
   "cell_type": "code",
   "execution_count": 78,
   "metadata": {},
   "outputs": [],
   "source": [
    "from sklearn.metrics import make_scorer\n",
    "\n",
    "def mape(y_true, y_pred):\n",
    "    return np.mean(np.abs((y_true - y_pred) / y_true)) * 100\n",
    "\n",
    "mape_scorer = make_scorer(mape, greater_is_better=False)\n"
   ]
  },
  {
   "cell_type": "code",
   "execution_count": 84,
   "metadata": {},
   "outputs": [
    {
     "name": "stdout",
     "output_type": "stream",
     "text": [
      "[13.26941662 12.10429899 15.99469302 10.73967998  5.82328984]\n",
      "Cross-validated MAPE: 11.586275691219978\n",
      "Test set RMSE: 0.6821780439967687\n",
      "Test set MAPE: 7.596943663863242 %\n"
     ]
    }
   ],
   "source": [
    "from sklearn.cross_decomposition import PLSRegression\n",
    "from sklearn.metrics import mean_squared_error\n",
    "from sklearn.model_selection import cross_val_score\n",
    "from math import sqrt\n",
    "import numpy as np\n",
    "\n",
    "\n",
    "# Define the PLS model\n",
    "pls = PLSRegression(n_components=2)\n",
    "\n",
    "# Perform cross-validation to assess model performance\n",
    "cv_mape = -cross_val_score(pls, X_train, DR, cv=5, scoring=mape_scorer)\n",
    "\n",
    "# Print the cross-validated RMSE\n",
    "\n",
    "print(cv_mape)\n",
    "print(\"Cross-validated MAPE:\", np.mean(cv_mape))\n",
    "\n",
    "# Fit the model on the entire training data\n",
    "pls.fit(X_train, DR)\n",
    "\n",
    "# Predict on the test set\n",
    "DRPredicted = pls.predict(X_test)\n",
    "\n",
    "# Calculate RMSE\n",
    "rms = sqrt(mean_squared_error(DRVAL, DRPredicted))\n",
    "print(\"Test set RMSE:\", rms)\n",
    "\n",
    "# Calculate mean absolute percentage error (MAPE) for regression\n",
    "mape = np.mean(np.abs((DRVAL - DRPredicted) / DRVAL) * 100)\n",
    "print(\"Test set MAPE:\", mape, \"%\")\n"
   ]
  },
  {
   "cell_type": "code",
   "execution_count": 93,
   "metadata": {},
   "outputs": [
    {
     "name": "stdout",
     "output_type": "stream",
     "text": [
      "[32.63861675 31.88447755 29.59951128 12.2058525  26.39142432]\n",
      "Cross-validated MAPE: 26.54397647947829\n",
      "Test set RMSE: 3.163728602011846\n",
      "Test set MAPE: 11.483514549632826 %\n"
     ]
    }
   ],
   "source": [
    "from sklearn.cross_decomposition import PLSRegression\n",
    "from sklearn.metrics import mean_squared_error\n",
    "from sklearn.model_selection import cross_val_score\n",
    "from math import sqrt\n",
    "import numpy as np\n",
    "\n",
    "\n",
    "# Define the PLS model\n",
    "pls2 = PLSRegression(n_components=2)\n",
    "\n",
    "# Perform cross-validation to assess model performance\n",
    "cv_mape =-cross_val_score(pls2, X_train, HPMC, cv=5, scoring=mape_scorer)\n",
    "\n",
    "# Print the cross-validated RMSE\n",
    "\n",
    "print(cv_mape)\n",
    "print(\"Cross-validated MAPE:\", np.mean(cv_mape))\n",
    "\n",
    "# Fit the model on the entire training data\n",
    "pls2.fit(X_train, HPMC)\n",
    "\n",
    "# Predict on the test set\n",
    "HPMCPredicted = pls2.predict(X_test)\n",
    "\n",
    "# Calculate RMSE\n",
    "rms = sqrt(mean_squared_error(HPMCVAL, HPMCPredicted))\n",
    "print(\"Test set RMSE:\", rms)\n",
    "\n",
    "# Calculate mean absolute percentage error (MAPE) for regression\n",
    "mape = np.mean(np.abs((HPMCVAL - HPMCPredicted) / HPMCVAL) * 100)\n",
    "print(\"Test set MAPE:\", mape, \"%\")\n"
   ]
  },
  {
   "cell_type": "code",
   "execution_count": 12,
   "metadata": {},
   "outputs": [
    {
     "name": "stdout",
     "output_type": "stream",
     "text": [
      "[8.44795391 4.82566509]\n"
     ]
    }
   ],
   "source": [
    "ContentPredicted=np.hstack((DRPredicted,HPMCPredicted))\n",
    "print(ContentPredicted[31])\n",
    "np.savetxt(\"ContentPredicted.csv\", ContentPredicted, delimiter=\",\")"
   ]
  },
  {
   "cell_type": "code",
   "execution_count": null,
   "metadata": {},
   "outputs": [],
   "source": [
    "\n",
    "#RamanTR RamanRE NIRTR NIRRE\n",
    "\n",
    "single= PCA()\n",
    "single.fit(RamanRE)\n",
    "expl_var_1 = single.explained_variance_ratio_\n",
    "first10=expl_var_1[0:10]\n",
    "print(first10[1])\n",
    "\n",
    "y=np.arange(len(first10))\n",
    "plt.title(\"All spectra merged\")\n",
    "\n",
    "plt.bar(y+1,first10*100 )\n",
    "plt.xlabel('number of components')\n",
    "plt.ylabel('Explained variance');"
   ]
  }
 ],
 "metadata": {
  "kernelspec": {
   "display_name": "Python 3 (ipykernel)",
   "language": "python",
   "name": "python3"
  },
  "language_info": {
   "codemirror_mode": {
    "name": "ipython",
    "version": 3
   },
   "file_extension": ".py",
   "mimetype": "text/x-python",
   "name": "python",
   "nbconvert_exporter": "python",
   "pygments_lexer": "ipython3",
   "version": "3.9.7"
  }
 },
 "nbformat": 4,
 "nbformat_minor": 2
}
