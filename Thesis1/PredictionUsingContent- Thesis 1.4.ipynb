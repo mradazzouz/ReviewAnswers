{
 "cells": [
  {
   "cell_type": "code",
   "execution_count": 9,
   "metadata": {},
   "outputs": [],
   "source": [
    "def calcf2(P,T,rows,samples):  \n",
    "    rows=rows\n",
    "    samples=samples\n",
    "    count=0\n",
    "\n",
    "    y_pred=P\n",
    "    y_test=T\n",
    "    ftotal=0\n",
    "    for i in range(0, samples):\n",
    "\n",
    "        f=0\n",
    "\n",
    "        somme=0\n",
    "        Xrow = y_test[i]\n",
    "        Yrow = y_pred[i]\n",
    "        for n in range(0,rows):\n",
    "            Xcell=Xrow[n]\n",
    "            Ycell=Yrow[n]\n",
    "            Error=Xcell-Ycell\n",
    "            Eabs=Error**2\n",
    "            somme=somme+Eabs\n",
    "        step1=1+(1/rows)*somme\n",
    "        step2=step1**(-0.5)\n",
    "        step3=step2*100\n",
    "        f=50*math.log10( step3 )\n",
    "        ftotal=ftotal+f\n",
    "    averagef2=ftotal/samples\n",
    "    return(averagef2)"
   ]
  },
  {
   "cell_type": "code",
   "execution_count": 10,
   "metadata": {},
   "outputs": [],
   "source": [
    "# Import Libraries and DataSet\n",
    "import warnings\n",
    "\n",
    "warnings.filterwarnings(\"ignore\")\n",
    "import pandas as pd\n",
    "import numpy as np \n",
    "import pylab\n",
    "import math\n",
    "from sklearn.exceptions import DataConversionWarning\n",
    "warnings.filterwarnings(action='ignore', category=RuntimeWarning)\n",
    "warnings.filterwarnings(action='ignore', category=FutureWarning)\n",
    "from numpy import loadtxt\n",
    "from sklearn.model_selection import train_test_split\n",
    "from sklearn.preprocessing import StandardScaler\n",
    "from sklearn.decomposition import PCA"
   ]
  },
  {
   "cell_type": "code",
   "execution_count": 11,
   "metadata": {},
   "outputs": [],
   "source": [
    "#Training data\n",
    "Content = loadtxt(r'.\\TrainingData\\CONTENT.csv', delimiter=',', dtype='float64')\n",
    "COMPMax = loadtxt(r'.\\TrainingData\\COMPMax.csv', delimiter=',', dtype='float64')\n",
    "\n",
    "COMPMax = np.array(COMPMax[np.newaxis].T)\n",
    "\n",
    "#Target\n",
    "DISS = loadtxt(r'.\\TrainingData\\DISS.csv', delimiter=',', dtype='float64')\n",
    "\n",
    "\n",
    "X_train=np.hstack((Content,COMPMax))\n"
   ]
  },
  {
   "cell_type": "code",
   "execution_count": 40,
   "metadata": {},
   "outputs": [
    {
     "name": "stdout",
     "output_type": "stream",
     "text": [
      "(111, 53)\n"
     ]
    }
   ],
   "source": [
    "#Validation data\n",
    "COMPMaxVal = loadtxt(r'.\\Validation\\COMPMAX-validation.csv', delimiter=',', dtype='float64')\n",
    "ContentVal = loadtxt(r'.\\Validation\\CONTENT-validation.csv', delimiter=',', dtype='float64')\n",
    "ContentPredicted = loadtxt(r'.\\ContentPredicted.csv', delimiter=',', dtype='float64')\n",
    "#Target\n",
    "DISSVal = loadtxt(r'.\\Validation\\DISS-validation.csv', delimiter=',', dtype='float64')\n",
    "\n",
    "COMPMaxVal = np.array(COMPMaxVal[np.newaxis].T)\n",
    "X_test=np.hstack((ContentPredicted,COMPMaxVal))\n",
    "\n",
    "\n",
    "#y_train\n",
    "\n",
    "y_train=DISS[:,0:53]\n",
    "\n",
    "#y_test\n",
    "y_test=DISSVal[:,0:53]\n",
    "\n",
    "print(y_train.shape)"
   ]
  },
  {
   "cell_type": "code",
   "execution_count": 47,
   "metadata": {},
   "outputs": [],
   "source": [
    "from sklearn.metrics import make_scorer\n",
    "# Custom scoring function\n",
    "def custom_metric(y_true, y_pred):\n",
    "    # Replace the following line with your own custom metric calculation (calcf2)\n",
    "    score = calcf2(y_true, y_pred, 53, 22)\n",
    "    return score\n",
    "\n",
    "# Make scorer for the custom metric\n",
    "custom_scorer = make_scorer(custom_metric, greater_is_better=True)\n"
   ]
  },
  {
   "cell_type": "code",
   "execution_count": 91,
   "metadata": {},
   "outputs": [
    {
     "name": "stdout",
     "output_type": "stream",
     "text": [
      "Cross-validated scores: [66.11573432 66.91553123 67.38443103 68.82064484 60.15870532]\n",
      "Average Score: 65.87900934770245\n",
      "Standard Deviation: 2.9923839448039127\n",
      "95% Confidence Interval: 63.256069172881126 to 68.50194952252377\n"
     ]
    }
   ],
   "source": [
    "from sklearn.ensemble import RandomForestRegressor\n",
    "trainings=1\n",
    "DissolutionPoints=53\n",
    "TestSize=37\n",
    "\n",
    "average=0\n",
    "#2391\n",
    "for i in range(0,trainings):\n",
    "    #print(i)\n",
    "    regressor = RandomForestRegressor(n_estimators=100)\n",
    "    regressor.fit(X_train, y_train)\n",
    "    y_pred = regressor.predict(X_test)\n",
    "    f[i]=calcf2(y_test,y_pred,DissolutionPoints,TestSize)\n",
    "    if f[i]<50:\n",
    "        print(f[i])\n",
    "    average=average+f[i]\n",
    "key_max = max(f.keys(), key=(lambda k: f[k]))\n",
    "\n",
    "\n",
    "\n",
    "# Perform cross-validation\n",
    "cv_scores = cross_val_score(regressor, X_train, y_train, cv=5, scoring=custom_scorer)\n",
    "\n",
    "\n",
    "average_score = np.mean(cv_scores)\n",
    "std_deviation = np.std(cv_scores)\n",
    "confidence_interval = 1.96 * (std_deviation / np.sqrt(len(cv_scores)))\n",
    "\n",
    "# Print results\n",
    "print(\"Cross-validated scores:\", cv_scores)\n",
    "print(\"Average Score:\", average_score)\n",
    "print(\"Standard Deviation:\", std_deviation)\n",
    "print(\"95% Confidence Interval:\", average_score - confidence_interval, \"to\", average_score + confidence_interval)\n",
    "\n"
   ]
  }
 ],
 "metadata": {
  "kernelspec": {
   "display_name": "Python 3 (ipykernel)",
   "language": "python",
   "name": "python3"
  },
  "language_info": {
   "codemirror_mode": {
    "name": "ipython",
    "version": 3
   },
   "file_extension": ".py",
   "mimetype": "text/x-python",
   "name": "python",
   "nbconvert_exporter": "python",
   "pygments_lexer": "ipython3",
   "version": "3.9.7"
  }
 },
 "nbformat": 4,
 "nbformat_minor": 2
}
