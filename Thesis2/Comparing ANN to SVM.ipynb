{
 "cells": [
  {
   "cell_type": "code",
   "execution_count": 2,
   "id": "7450c7d3",
   "metadata": {
    "scrolled": true
   },
   "outputs": [
    {
     "name": "stdout",
     "output_type": "stream",
     "text": [
      "T-statistic: -3.5389088396865684\n",
      "P-value: 0.024036999701172502\n",
      "The difference in performance is statistically significant.\n"
     ]
    }
   ],
   "source": [
    "import numpy as np\n",
    "model1_cv_scores = np.array([0.64383562, 0.11986301, 0.13356164, 0.83219178, 0.36769759])\n",
    "\n",
    "model2_fold_accuracies = np.array([0.9006849315068494, 0.934931506849315, 0.9452054794520548, 0.9383561643835616, 0.9209621993127147])\n",
    "from scipy.stats import ttest_rel\n",
    "\n",
    "# Perform a paired t-test\n",
    "t_stat, p_value = ttest_rel(model1_cv_scores, model2_fold_accuracies)\n",
    "\n",
    "# Print the results\n",
    "print(f'T-statistic: {t_stat}')\n",
    "print(f'P-value: {p_value}')\n",
    "\n",
    "# Check if the difference is statistically significant\n",
    "alpha = 0.05\n",
    "if p_value < alpha:\n",
    "    print('The difference in performance is statistically significant.')\n",
    "else:\n",
    "    print('There is no statistically significant difference in performance.')\n"
   ]
  }
 ],
 "metadata": {
  "kernelspec": {
   "display_name": "Python 3 (ipykernel)",
   "language": "python",
   "name": "python3"
  },
  "language_info": {
   "codemirror_mode": {
    "name": "ipython",
    "version": 3
   },
   "file_extension": ".py",
   "mimetype": "text/x-python",
   "name": "python",
   "nbconvert_exporter": "python",
   "pygments_lexer": "ipython3",
   "version": "3.9.7"
  }
 },
 "nbformat": 4,
 "nbformat_minor": 5
}
